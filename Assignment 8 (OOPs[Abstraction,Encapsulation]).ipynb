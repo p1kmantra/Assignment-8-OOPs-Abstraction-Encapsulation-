{
 "cells": [
  {
   "cell_type": "markdown",
   "id": "003c1d36-9e6f-4056-9992-2a95b7041d9c",
   "metadata": {},
   "source": [
    "Q.1.What is Abstraction in OOPs ? Explain with an example. "
   ]
  },
  {
   "cell_type": "markdown",
   "id": "6f3fc810-2eda-4f95-9500-fa1bfe10e63a",
   "metadata": {},
   "source": [
    "Ans. Abstraction is a fundamental concept in object-oriented programming that allows us to create and use complex systems by hiding unnecessary implementation details and focussing on essential features .It helps us in the process of extracting the relevant characteristics of an object and representing them in a simplified manner. \n",
    "                           In OOPs ,abstraction is achieved through the use of absract classes an interfaces. An abstract class is a class that can not be instatiated and serves as a blueprint for creating derived classes .It may contain abstract methods.Abstract methods are meant to be overriden by the derived classes."
   ]
  },
  {
   "cell_type": "markdown",
   "id": "5e954004-fa2b-472e-8927-85a4117b1c17",
   "metadata": {},
   "source": [
    "In sort we can also say ,the method which has only the decalaration but not has defination is called abstract method."
   ]
  },
  {
   "cell_type": "markdown",
   "id": "0a4467ff-661a-4a59-a320-39a8302c951b",
   "metadata": {},
   "source": [
    "By default Python doesn't support abstract class so that we have a module which is abc module that we have to import to achieve abbstract class "
   ]
  },
  {
   "cell_type": "code",
   "execution_count": 15,
   "id": "b5cc639a-6559-4da7-a588-8763a8211585",
   "metadata": {},
   "outputs": [],
   "source": [
    "import abc\n",
    "\n",
    "class computer:\n",
    "    @abc.abstractmethod\n",
    "    def process(self):\n",
    "        pass\n",
    "    \n",
    "class laptop(computer):\n",
    "    def process (self):\n",
    "        print(\"controlling the system\")\n",
    "        \n",
    "class programmer(laptop):\n",
    "    def behaves(self):\n",
    "        print(\"it's operating \")"
   ]
  },
  {
   "cell_type": "code",
   "execution_count": 16,
   "id": "d01fb929-daef-4f06-873e-538fb31248c2",
   "metadata": {},
   "outputs": [],
   "source": [
    "oper=programmer()"
   ]
  },
  {
   "cell_type": "code",
   "execution_count": 17,
   "id": "4fceb78c-8ccb-49df-af9c-cd5e4a7358d1",
   "metadata": {},
   "outputs": [
    {
     "name": "stdout",
     "output_type": "stream",
     "text": [
      "controlling the system\n"
     ]
    }
   ],
   "source": [
    "oper.process()"
   ]
  },
  {
   "cell_type": "code",
   "execution_count": 18,
   "id": "88116299-52a2-401f-82d9-4a10ef12d8d7",
   "metadata": {},
   "outputs": [
    {
     "name": "stdout",
     "output_type": "stream",
     "text": [
      "controlling the system\n"
     ]
    }
   ],
   "source": [
    "oper.process()"
   ]
  },
  {
   "cell_type": "code",
   "execution_count": 19,
   "id": "6b2e007e-505e-4d1d-b115-85fe1adafa38",
   "metadata": {},
   "outputs": [
    {
     "name": "stdout",
     "output_type": "stream",
     "text": [
      "it's operating \n"
     ]
    }
   ],
   "source": [
    "oper.behaves()"
   ]
  },
  {
   "cell_type": "code",
   "execution_count": null,
   "id": "b1daf03f-2e79-4abf-b39f-1a19cee28ac7",
   "metadata": {},
   "outputs": [],
   "source": []
  },
  {
   "cell_type": "markdown",
   "id": "10c08906-de8d-4bab-9368-a67799b91702",
   "metadata": {},
   "source": [
    "Q.2. Differentiate between Abstraction and Encapsulation. Explain with an example."
   ]
  },
  {
   "cell_type": "markdown",
   "id": "a4e99bde-29c0-4995-85ff-489a8edfe608",
   "metadata": {},
   "source": [
    "Ans. Abstarction is a method that allows us to create and use complex systems by hiding unnecessary implementation details and focusing on essential features .It focuses on what an object does rather than how it does ."
   ]
  },
  {
   "cell_type": "markdown",
   "id": "4bfaf74c-cb68-4c84-822a-c173f8555844",
   "metadata": {},
   "source": [
    "while Encapsulation is the practice of bundaling data and methods together within a class and controlling the access to that data through methods .It ensures that that the internal state of an object is not directly accessible or modifiable from outside the class .Encapsulation provides data hiding and protects the integrity of the object"
   ]
  },
  {
   "cell_type": "markdown",
   "id": "6e8e624f-04aa-4ff0-a0a1-f25c5164a260",
   "metadata": {},
   "source": [
    "Here are the examples for Abstraction and Encapsulation"
   ]
  },
  {
   "cell_type": "code",
   "execution_count": 23,
   "id": "b2cfb98b-01c4-4a81-860a-fe5138048b92",
   "metadata": {},
   "outputs": [],
   "source": [
    "import abc\n",
    "\n",
    "class pwskills:\n",
    "    @abc.abstractmethod\n",
    "    def students_name(self):\n",
    "        pass\n",
    "    \n",
    "    @abc.abstractmethod\n",
    "    def students_mail(self):\n",
    "        pass"
   ]
  },
  {
   "cell_type": "code",
   "execution_count": 24,
   "id": "dab87fac-c0de-4eca-a644-d4fab6175990",
   "metadata": {},
   "outputs": [],
   "source": [
    "class students_name(pwskills):\n",
    "    def students_name(self):\n",
    "        return \"this is the method to achieve students name\"\n",
    "    \n",
    "    def students_mail(self):\n",
    "        return \"this is the method to achieve students mail\""
   ]
  },
  {
   "cell_type": "code",
   "execution_count": 25,
   "id": "40b92add-33d2-4924-87ec-7dfe447b3369",
   "metadata": {},
   "outputs": [],
   "source": [
    "class data_science_masters(pwskills):\n",
    "    def students_name(self):\n",
    "        return \"this will give the name of the students of data scince masters \"\n",
    "    \n",
    "    def students_mail(self):\n",
    "        return \"this will give the mail of the students oif data science masters \""
   ]
  },
  {
   "cell_type": "code",
   "execution_count": 26,
   "id": "2b0eca58-8669-4b05-afc9-575993ff95a6",
   "metadata": {},
   "outputs": [],
   "source": [
    "pwskills=data_science_masters()"
   ]
  },
  {
   "cell_type": "code",
   "execution_count": 27,
   "id": "d6f52d48-8073-4e85-96d9-d201b75008aa",
   "metadata": {},
   "outputs": [
    {
     "data": {
      "text/plain": [
       "'this will give the name of the students of data scince masters '"
      ]
     },
     "execution_count": 27,
     "metadata": {},
     "output_type": "execute_result"
    }
   ],
   "source": [
    "pwskills.students_name()"
   ]
  },
  {
   "cell_type": "code",
   "execution_count": 28,
   "id": "24112039-4166-4102-85b6-d8094f6140b2",
   "metadata": {},
   "outputs": [
    {
     "data": {
      "text/plain": [
       "'this will give the mail of the students oif data science masters '"
      ]
     },
     "execution_count": 28,
     "metadata": {},
     "output_type": "execute_result"
    }
   ],
   "source": [
    "pwskills.students_mail()"
   ]
  },
  {
   "cell_type": "markdown",
   "id": "2681b646-8962-4d5e-86cd-a9ba24bfda1c",
   "metadata": {},
   "source": [
    "eg.of Encapsulation"
   ]
  },
  {
   "cell_type": "code",
   "execution_count": 5,
   "id": "35da5df3-cbf7-4c25-98fe-265c23f14487",
   "metadata": {},
   "outputs": [],
   "source": [
    "class pwskills:\n",
    "    \n",
    "    def __init__(self,students_name,students_mail,students_mobile_no):\n",
    "        \n",
    "        self.__students_name=students_name\n",
    "        self.__students_mail=students_mail\n",
    "        self.__students_mobile_no=students_mobile_no\n",
    "        \n",
    "    def set_students_mobile_no(self,students_mobile_no):\n",
    "        self.__students_mobile_no=0 if students_mobile_no <0 else students_mobile_no\n",
    "        \n",
    "    def get_students_mobile_no(self):\n",
    "        return self.__students_mobile_no"
   ]
  },
  {
   "cell_type": "code",
   "execution_count": 6,
   "id": "dacad3c3-bb0b-4c41-bb90-db47269bc0ec",
   "metadata": {},
   "outputs": [],
   "source": [
    "contact=pwskills(\"Sir Sudhanshu\",\"sudh@gmail.com\",64358)"
   ]
  },
  {
   "cell_type": "code",
   "execution_count": 7,
   "id": "5989b656-5317-482c-ae1d-21cbeccc2189",
   "metadata": {},
   "outputs": [],
   "source": [
    "contact.set_students_mobile_no(-987635)"
   ]
  },
  {
   "cell_type": "code",
   "execution_count": 8,
   "id": "18eb9b54-3201-4e05-a0c6-3f5b161b32e5",
   "metadata": {},
   "outputs": [
    {
     "data": {
      "text/plain": [
       "0"
      ]
     },
     "execution_count": 8,
     "metadata": {},
     "output_type": "execute_result"
    }
   ],
   "source": [
    "contact.get_students_mobile_no()"
   ]
  },
  {
   "cell_type": "code",
   "execution_count": 9,
   "id": "2dcfec89-1998-4c57-a00e-28a3fece12c7",
   "metadata": {},
   "outputs": [],
   "source": [
    "contact.set_students_mobile_no(6204988446)"
   ]
  },
  {
   "cell_type": "code",
   "execution_count": 10,
   "id": "eeb1f0e7-a92f-4ff6-945f-dd328858353c",
   "metadata": {},
   "outputs": [
    {
     "data": {
      "text/plain": [
       "6204988446"
      ]
     },
     "execution_count": 10,
     "metadata": {},
     "output_type": "execute_result"
    }
   ],
   "source": [
    "contact.get_students_mobile_no()"
   ]
  },
  {
   "cell_type": "code",
   "execution_count": null,
   "id": "dbad081f-f297-4c89-a132-092fe5c70533",
   "metadata": {},
   "outputs": [],
   "source": []
  },
  {
   "cell_type": "markdown",
   "id": "e99a7389-42ba-4484-aea1-ecf04bfc40b1",
   "metadata": {},
   "source": [
    "Q.3.what is abc module in Python ? Why is it used ?"
   ]
  },
  {
   "cell_type": "markdown",
   "id": "69d744f5-898e-40f1-af5f-1b814244894b",
   "metadata": {},
   "source": [
    "Ans.The 'abc'module in Python stands for 'Abstract Base Classes' It provides a way to define abstract base classes ,which are classes that cannot be  instantiated directly but are meant to be subclassed . Abc module defines a comman interface and set of methods that their subclasses should implemant."
   ]
  },
  {
   "cell_type": "markdown",
   "id": "a0a21cbb-8523-456b-aaa7-26f551b161de",
   "metadata": {},
   "source": [
    "the abc module is used to enforce a certain structure or contact in subclasses .It helps in defining a common API that multiple subclasses.It also helps in communicating the expected behavior of subclasses to other developers "
   ]
  },
  {
   "cell_type": "code",
   "execution_count": 3,
   "id": "32ca6221-e147-4937-9f2f-db581666cce0",
   "metadata": {},
   "outputs": [],
   "source": [
    "import abc\n",
    "\n",
    "class shape:\n",
    "    @abc.abstractmethod\n",
    "    def are(self):\n",
    "        pass\n",
    "class rectangle(shape):\n",
    "    def __init__(self, width,length):\n",
    "        self.width=width\n",
    "        self.length=length\n",
    "        \n",
    "    def area(self):\n",
    "        return self.width * self.length\n",
    "    \n",
    "class circle(shape):\n",
    "    def __init__(self,radius):\n",
    "        self.radius=radius\n",
    "        \n",
    "    def area(self):\n",
    "        return  3.14 * self.radius* self.radius"
   ]
  },
  {
   "cell_type": "code",
   "execution_count": 5,
   "id": "d069c0a1-f5d2-47b7-8bf0-98162b4ef498",
   "metadata": {},
   "outputs": [],
   "source": [
    "area=rectangle(12,14)"
   ]
  },
  {
   "cell_type": "code",
   "execution_count": 6,
   "id": "0df7b29f-bb71-473f-a84d-2fb2189cec98",
   "metadata": {},
   "outputs": [
    {
     "data": {
      "text/plain": [
       "168"
      ]
     },
     "execution_count": 6,
     "metadata": {},
     "output_type": "execute_result"
    }
   ],
   "source": [
    "area.area()"
   ]
  },
  {
   "cell_type": "code",
   "execution_count": 7,
   "id": "c113e912-0228-4cb6-8d92-e97271e0b0fa",
   "metadata": {},
   "outputs": [],
   "source": [
    "area=circle(15)"
   ]
  },
  {
   "cell_type": "code",
   "execution_count": 8,
   "id": "a5f5493a-7d5c-49f9-87d1-cb4366accbd2",
   "metadata": {},
   "outputs": [
    {
     "data": {
      "text/plain": [
       "706.5"
      ]
     },
     "execution_count": 8,
     "metadata": {},
     "output_type": "execute_result"
    }
   ],
   "source": [
    "area.area()"
   ]
  },
  {
   "cell_type": "code",
   "execution_count": null,
   "id": "b6898615-4272-452e-878f-a52b591e7fc7",
   "metadata": {},
   "outputs": [],
   "source": []
  },
  {
   "cell_type": "markdown",
   "id": "34984989-0743-477e-9801-e73deab67f97",
   "metadata": {},
   "source": [
    "Q.4.How can we achieve data abstraction ?"
   ]
  },
  {
   "cell_type": "markdown",
   "id": "fb9fd399-096b-4feb-856a-5fd158ef2afb",
   "metadata": {},
   "source": [
    "Ans. In Python ,abstractiion can be achieve through the use of classes and encapsulation .Here I am going to explain few key principles and techniques to achieve data abstraction :"
   ]
  },
  {
   "cell_type": "markdown",
   "id": "b48592ca-0673-4097-a9a2-3893fb55c2b7",
   "metadata": {},
   "source": [
    "1.Encapsulation :It envolves bundling data and the methods that operate on that data within a class .by using access modifiers like public ,private ,and protected .we can control the visibility and accessibility of data and methods .This helps in hiding the intrnal implementation details and exposing only the essential interface to the outside world. "
   ]
  },
  {
   "cell_type": "markdown",
   "id": "102f0255-7cdb-44b8-acb6-550402037421",
   "metadata": {},
   "source": [
    "2.Class and Object: Define classes to represent abstract concepts or intities in our code .Classes encapsulate related data and behavior into a single unit .Objects are instances of these classes that holds specific data values and provide access to methods defined in the class."
   ]
  },
  {
   "cell_type": "markdown",
   "id": "52b7fb77-52dd-491d-8a04-ff0996239322",
   "metadata": {},
   "source": [
    "3.Abstraction and Interface: Use abstract classes or interface to define a comman API or contrat that subclasses must adhere to. This helps in achieving  a higher level of abstraction by specifyng the required behavior without exposing the implementation details."
   ]
  },
  {
   "cell_type": "markdown",
   "id": "2ab896f4-6710-46e8-83ae-f6f857a43d05",
   "metadata": {},
   "source": [
    "By applying these techniques ,we can create classes that abstract away the complexity of data structures and provide a simplified and standardized interface for interacting with data.This promotes modular and maintainable code and allows for easier extention and modification of our program.\n"
   ]
  },
  {
   "cell_type": "code",
   "execution_count": null,
   "id": "b00b852c-09cf-445e-89bb-5f84acb64207",
   "metadata": {},
   "outputs": [],
   "source": []
  },
  {
   "cell_type": "markdown",
   "id": "5417fb15-2c0f-400a-888e-58cd54997de8",
   "metadata": {},
   "source": [
    "Q.5.Can we create a instance of an abstract class ? Explain your answer."
   ]
  },
  {
   "cell_type": "markdown",
   "id": "a863d3b3-5822-4378-bf4d-ea5e04ba425f",
   "metadata": {},
   "source": [
    "Ans. No ,we cannot create an instance of an abstract class in Python.Abstract classes are meant to be subclassed ,and they serve as blueprint for concrete classes. They define a common interface and set of methods that their subclasses should implement "
   ]
  },
  {
   "cell_type": "markdown",
   "id": "2bddc291-d5fe-45d7-9108-6376e56d15d7",
   "metadata": {},
   "source": [
    "Python 'abc' module provides the 'ABC' (Abstract Base Class) metaclass ,which allows us to define abstract classes .Abstrsct classes are marked as such by using the @abc.abstractmethod  decorator one or more of their methods.Attemting to directly instansiate an abstract class will result in type error .For example :"
   ]
  },
  {
   "cell_type": "code",
   "execution_count": 9,
   "id": "dbeb4094-312b-4a13-971b-584403635da7",
   "metadata": {},
   "outputs": [],
   "source": [
    "import abc\n",
    "class abstractclass:\n",
    "    @abc.abstractmethod\n",
    "    def method_of_sum(self):\n",
    "        pass"
   ]
  },
  {
   "cell_type": "code",
   "execution_count": 10,
   "id": "df6af675-7c58-4341-ae32-260121b4ce9f",
   "metadata": {},
   "outputs": [],
   "source": [
    "object=abstractclass()"
   ]
  },
  {
   "cell_type": "code",
   "execution_count": 11,
   "id": "7e244df1-53f9-44e5-b218-7d739f3594f5",
   "metadata": {},
   "outputs": [],
   "source": [
    "object.method_of_sum()"
   ]
  },
  {
   "cell_type": "markdown",
   "id": "e068f0ca-48bd-4153-9e3e-edc35705775e",
   "metadata": {},
   "source": [
    "Instead,we need to create concrete subclass that inherit from the abstract class and provide implementation for all its abstract methods .It is these subclasses that we can instantiate and work with:"
   ]
  },
  {
   "cell_type": "code",
   "execution_count": 16,
   "id": "ed555746-de2a-43fd-afdd-ecaaf3f261e6",
   "metadata": {},
   "outputs": [],
   "source": [
    "class ConcreteClass(abstractclass):\n",
    "    def method_of_sum(self):\n",
    "        print(\"exicution of method\")"
   ]
  },
  {
   "cell_type": "code",
   "execution_count": 17,
   "id": "332c9e97-cf62-46b9-8546-b2444576475e",
   "metadata": {},
   "outputs": [],
   "source": [
    "object=ConcreteClass()"
   ]
  },
  {
   "cell_type": "code",
   "execution_count": 19,
   "id": "edf2b52e-4b9c-44d3-894e-0f5a4ef29d4f",
   "metadata": {},
   "outputs": [
    {
     "name": "stdout",
     "output_type": "stream",
     "text": [
      "exicution of method\n"
     ]
    }
   ],
   "source": [
    "object.method_of_sum()"
   ]
  },
  {
   "cell_type": "markdown",
   "id": "eaad2a90-e1a6-4856-be65-882d8851854a",
   "metadata": {},
   "source": [
    "Though ,we say that in exicuting the method of abstract class in Python we have to take the support of concrete subclass."
   ]
  },
  {
   "cell_type": "code",
   "execution_count": null,
   "id": "0d47e55d-04bb-4302-a067-1305dab67a43",
   "metadata": {},
   "outputs": [],
   "source": []
  }
 ],
 "metadata": {
  "kernelspec": {
   "display_name": "Python 3 (ipykernel)",
   "language": "python",
   "name": "python3"
  },
  "language_info": {
   "codemirror_mode": {
    "name": "ipython",
    "version": 3
   },
   "file_extension": ".py",
   "mimetype": "text/x-python",
   "name": "python",
   "nbconvert_exporter": "python",
   "pygments_lexer": "ipython3",
   "version": "3.10.8"
  }
 },
 "nbformat": 4,
 "nbformat_minor": 5
}
